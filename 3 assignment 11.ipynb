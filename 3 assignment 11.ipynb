{
 "cells": [
  {
   "cell_type": "code",
   "execution_count": 64,
   "metadata": {},
   "outputs": [
    {
     "name": "stdout",
     "output_type": "stream",
     "text": [
      "['Hello', 'trial', 'program']\n"
     ]
    }
   ],
   "source": [
    "#1\n",
    "def len12(k, str):\n",
    "    x= []\n",
    "    c1 = str.split(\" \")\n",
    "    for i in c1: \n",
    "        if len(i) > k:\n",
    "            x.append(i)\n",
    "    return x\n",
    "\n",
    "str =\"Hello this a trial program now\"\n",
    "k=int(input('Enter the size :'))\n",
    "print(len12(k, str))\n"
   ]
  },
  {
   "cell_type": "code",
   "execution_count": 44,
   "metadata": {},
   "outputs": [
    {
     "name": "stdout",
     "output_type": "stream",
     "text": [
      "Enter stringSherin\n",
      "Enter index of value to remove2\n",
      "Shrin\n"
     ]
    }
   ],
   "source": [
    "#2\n",
    "def remove(x,k):\n",
    "    m=list(x)\n",
    "    for i in range(1,len(m)):\n",
    "        if(i==k):\n",
    "            m.remove(x[k])\n",
    "    t=''.join(m)\n",
    "    return t\n",
    "   \n",
    "\n",
    "x=input('Enter string')\n",
    "k=int(input('Enter index of value to remove :'))\n",
    "print(remove(x,k))\n",
    "        \n",
    "        \n",
    "        "
   ]
  },
  {
   "cell_type": "code",
   "execution_count": 85,
   "metadata": {},
   "outputs": [
    {
     "name": "stdout",
     "output_type": "stream",
     "text": [
      "['It', 'is', 'a', 'good', 'and', 'great', 'day']\n",
      "It is a good and great day\n"
     ]
    }
   ],
   "source": [
    "#3\n",
    "x=input('Enter string :')\n",
    "m=x.split(' ')\n",
    "print(m)\n",
    "c=' '.join(m)\n",
    "print(c)"
   ]
  },
  {
   "cell_type": "code",
   "execution_count": 46,
   "metadata": {},
   "outputs": [
    {
     "name": "stdout",
     "output_type": "stream",
     "text": [
      "Enter stringgerw101010\n",
      "Not binary\n"
     ]
    }
   ],
   "source": [
    "#3\n",
    "flag=1\n",
    "x=input('Enter string')\n",
    "for i in x:\n",
    "        if(i=='0' or i=='1'):\n",
    "            flag=1\n",
    "            continue\n",
    "        else:\n",
    "            flag=0\n",
    "            break\n",
    "if(flag==1):\n",
    "    print('Binary string')\n",
    "else:\n",
    "    print('Not binary')\n",
    " "
   ]
  },
  {
   "cell_type": "code",
   "execution_count": 48,
   "metadata": {},
   "outputs": [
    {
     "name": "stdout",
     "output_type": "stream",
     "text": [
      "Enter string1   :Sherin good ineuron hello\n",
      "Enter string2 :Ineuron hiii good qwer mju\n",
      "['Sherin', 'ineuron', 'hello', 'Ineuron', 'hiii', 'qwer', 'mju']\n"
     ]
    }
   ],
   "source": [
    "#4\n",
    "x=input('Enter string1   :')        \n",
    "y=input('Enter string2 :') \n",
    "a=x.split(' ')\n",
    "b=y.split(' ')\n",
    "e=[]\n",
    "for i in a:\n",
    "    if i not in b and i!=' ':\n",
    "        e.append(i)\n",
    "for i in b:\n",
    "    if i not in a and i!=' ':\n",
    "        e.append(i)\n",
    "print(e)\n",
    "\n",
    "        \n"
   ]
  },
  {
   "cell_type": "code",
   "execution_count": 42,
   "metadata": {},
   "outputs": [
    {
     "name": "stdout",
     "output_type": "stream",
     "text": [
      "{'e', 't', 'r', 's', 'i'}\n"
     ]
    }
   ],
   "source": [
    "#5\n",
    "\n",
    "x=input('Enter string:')\n",
    "a=list(x)\n",
    "b=[]\n",
    "for i in range(len(a)):\n",
    "    for j in range(i+1,len(a)):\n",
    "        if(a[i]==a[j]):\n",
    "            b.append(a[i])\n",
    "        else:\n",
    "            continue\n",
    "print(set(b))\n",
    "        \n",
    "    \n",
    "  "
   ]
  },
  {
   "cell_type": "code",
   "execution_count": 58,
   "metadata": {},
   "outputs": [
    {
     "name": "stdout",
     "output_type": "stream",
     "text": [
      "Enter string:SH@erin&uer%port=\n",
      "Special charcter @ found\n",
      "Special charcter = found\n",
      "Special charcter & found\n",
      "Special charcter % found\n"
     ]
    }
   ],
   "source": [
    "#6\n",
    "import string\n",
    "char=string.punctuation\n",
    "x=input('Enter string:')\n",
    "b=set(char)\n",
    "a=set(x)\n",
    "for i in a:\n",
    "    if i in b:\n",
    "        print(f'Special charcter {i} found')"
   ]
  },
  {
   "cell_type": "code",
   "execution_count": null,
   "metadata": {},
   "outputs": [],
   "source": []
  }
 ],
 "metadata": {
  "kernelspec": {
   "display_name": "Python 3",
   "language": "python",
   "name": "python3"
  },
  "language_info": {
   "codemirror_mode": {
    "name": "ipython",
    "version": 3
   },
   "file_extension": ".py",
   "mimetype": "text/x-python",
   "name": "python",
   "nbconvert_exporter": "python",
   "pygments_lexer": "ipython3",
   "version": "3.8.3"
  }
 },
 "nbformat": 4,
 "nbformat_minor": 4
}
